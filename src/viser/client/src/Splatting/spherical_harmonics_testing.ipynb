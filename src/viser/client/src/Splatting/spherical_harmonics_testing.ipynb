{
 "cells": [
  {
   "cell_type": "code",
   "execution_count": 1,
   "metadata": {},
   "outputs": [],
   "source": [
    "#  Copyright 2021 The PlenOctree Authors.\n",
    "#  Redistribution and use in source and binary forms, with or without\n",
    "#  modification, are permitted provided that the following conditions are met:\n",
    "#\n",
    "#  1. Redistributions of source code must retain the above copyright notice,\n",
    "#  this list of conditions and the following disclaimer.\n",
    "#\n",
    "#  2. Redistributions in binary form must reproduce the above copyright notice,\n",
    "#  this list of conditions and the following disclaimer in the documentation\n",
    "#  and/or other materials provided with the distribution.\n",
    "#\n",
    "#  THIS SOFTWARE IS PROVIDED BY THE COPYRIGHT HOLDERS AND CONTRIBUTORS \"AS IS\"\n",
    "#  AND ANY EXPRESS OR IMPLIED WARRANTIES, INCLUDING, BUT NOT LIMITED TO, THE\n",
    "#  IMPLIED WARRANTIES OF MERCHANTABILITY AND FITNESS FOR A PARTICULAR PURPOSE\n",
    "#  ARE DISCLAIMED. IN NO EVENT SHALL THE COPYRIGHT HOLDER OR CONTRIBUTORS BE\n",
    "#  LIABLE FOR ANY DIRECT, INDIRECT, INCIDENTAL, SPECIAL, EXEMPLARY, OR\n",
    "#  CONSEQUENTIAL DAMAGES (INCLUDING, BUT NOT LIMITED TO, PROCUREMENT OF\n",
    "#  SUBSTITUTE GOODS OR SERVICES; LOSS OF USE, DATA, OR PROFITS; OR BUSINESS\n",
    "#  INTERRUPTION) HOWEVER CAUSED AND ON ANY THEORY OF LIABILITY, WHETHER IN\n",
    "#  CONTRACT, STRICT LIABILITY, OR TORT (INCLUDING NEGLIGENCE OR OTHERWISE)\n",
    "#  ARISING IN ANY WAY OUT OF THE USE OF THIS SOFTWARE, EVEN IF ADVISED OF THE\n",
    "#  POSSIBILITY OF SUCH DAMAGE.\n",
    "\n",
    "import torch\n",
    "\n",
    "C0 = 0.28209479177387814\n",
    "C1 = 0.4886025119029199\n",
    "C2 = [\n",
    "    1.0925484305920792,\n",
    "    -1.0925484305920792,\n",
    "    0.31539156525252005,\n",
    "    -1.0925484305920792,\n",
    "    0.5462742152960396\n",
    "]\n",
    "C3 = [\n",
    "    -0.5900435899266435,\n",
    "    2.890611442640554,\n",
    "    -0.4570457994644658,\n",
    "    0.3731763325901154,\n",
    "    -0.4570457994644658,\n",
    "    1.445305721320277,\n",
    "    -0.5900435899266435\n",
    "]\n",
    "C4 = [\n",
    "    2.5033429417967046,\n",
    "    -1.7701307697799304,\n",
    "    0.9461746957575601,\n",
    "    -0.6690465435572892,\n",
    "    0.10578554691520431,\n",
    "    -0.6690465435572892,\n",
    "    0.47308734787878004,\n",
    "    -1.7701307697799304,\n",
    "    0.6258357354491761,\n",
    "]   \n",
    "\n",
    "\n",
    "def eval_sh(deg, sh, dirs):\n",
    "    \"\"\"\n",
    "    Evaluate spherical harmonics at unit directions\n",
    "    using hardcoded SH polynomials.\n",
    "    Works with torch/np/jnp.\n",
    "    ... Can be 0 or more batch dimensions.\n",
    "    Args:\n",
    "        deg: int SH deg. Currently, 0-3 supported\n",
    "        sh: jnp.ndarray SH coeffs [..., C, (deg + 1) ** 2]\n",
    "        dirs: jnp.ndarray unit directions [..., 3]\n",
    "    Returns:\n",
    "        [..., C]\n",
    "    \"\"\"\n",
    "    assert deg <= 4 and deg >= 0\n",
    "    coeff = (deg + 1) ** 2\n",
    "    assert sh.shape[-1] >= coeff\n",
    "\n",
    "    result = C0 * sh[..., 0]\n",
    "    if deg > 0:\n",
    "        x, y, z = dirs[..., 0:1], dirs[..., 1:2], dirs[..., 2:3]\n",
    "        result = (result -\n",
    "                C1 * y * sh[..., 1] +\n",
    "                C1 * z * sh[..., 2] -\n",
    "                C1 * x * sh[..., 3])\n",
    "\n",
    "        if deg > 1:\n",
    "            xx, yy, zz = x * x, y * y, z * z\n",
    "            xy, yz, xz = x * y, y * z, x * z\n",
    "            result = (result +\n",
    "                    C2[0] * xy * sh[..., 4] +\n",
    "                    C2[1] * yz * sh[..., 5] +\n",
    "                    C2[2] * (2.0 * zz - xx - yy) * sh[..., 6] +\n",
    "                    C2[3] * xz * sh[..., 7] +\n",
    "                    C2[4] * (xx - yy) * sh[..., 8])\n",
    "\n",
    "            if deg > 2:\n",
    "                result = (result +\n",
    "                C3[0] * y * (3 * xx - yy) * sh[..., 9] +\n",
    "                C3[1] * xy * z * sh[..., 10] +\n",
    "                C3[2] * y * (4 * zz - xx - yy)* sh[..., 11] +\n",
    "                C3[3] * z * (2 * zz - 3 * xx - 3 * yy) * sh[..., 12] +\n",
    "                C3[4] * x * (4 * zz - xx - yy) * sh[..., 13] +\n",
    "                C3[5] * z * (xx - yy) * sh[..., 14] +\n",
    "                C3[6] * x * (xx - 3 * yy) * sh[..., 15])\n",
    "\n",
    "                if deg > 3:\n",
    "                    result = (result + C4[0] * xy * (xx - yy) * sh[..., 16] +\n",
    "                            C4[1] * yz * (3 * xx - yy) * sh[..., 17] +\n",
    "                            C4[2] * xy * (7 * zz - 1) * sh[..., 18] +\n",
    "                            C4[3] * yz * (7 * zz - 3) * sh[..., 19] +\n",
    "                            C4[4] * (zz * (35 * zz - 30) + 3) * sh[..., 20] +\n",
    "                            C4[5] * xz * (7 * zz - 3) * sh[..., 21] +\n",
    "                            C4[6] * (xx - yy) * (7 * zz - 1) * sh[..., 22] +\n",
    "                            C4[7] * xz * (xx - 3 * yy) * sh[..., 23] +\n",
    "                            C4[8] * (xx * (xx - 3 * yy) - yy * (3 * xx - yy)) * sh[..., 24])\n",
    "    return result\n",
    "\n",
    "def RGB2SH(rgb):\n",
    "    return (rgb - 0.5) / C0\n",
    "\n",
    "def SH2RGB(sh):\n",
    "    return sh * C0 + 0.5"
   ]
  },
  {
   "cell_type": "code",
   "execution_count": 2,
   "metadata": {},
   "outputs": [
    {
     "name": "stdout",
     "output_type": "stream",
     "text": [
      "[0.70985258 0.20630107 0.06283242]\n"
     ]
    }
   ],
   "source": [
    "import numpy as np\n",
    "deg = 3\n",
    "sh = np.random.rand(3, 16)\n",
    "dirs = np.array([1, 0, 0])\n",
    "print(eval_sh(deg, sh, dirs))\n"
   ]
  },
  {
   "cell_type": "code",
   "execution_count": 3,
   "metadata": {},
   "outputs": [],
   "source": [
    "import struct\n",
    "import numpy as np\n",
    "\n",
    "def unpackHalf2x16(value):\n",
    "    \"\"\"The first float is the least significant 16bits, the second is the most significant 16bits.\"\"\"\n",
    "    # Convert int32 to its binary representation\n",
    "    binary = format(value, '032b')\n",
    "    \n",
    "    # Split the binary string into two 16-bit parts\n",
    "    binary1 = binary[:16]\n",
    "    binary2 = binary[16:]\n",
    "    \n",
    "    # Convert each 16-bit binary string to an integer\n",
    "    int1 = int(binary1, 2)\n",
    "    int2 = int(binary2, 2)\n",
    "    \n",
    "    # Use numpy to convert uint16 to float16\n",
    "    float1 = np.frombuffer(struct.pack('H', int1), dtype=np.float16)[0]\n",
    "    float2 = np.frombuffer(struct.pack('H', int2), dtype=np.float16)[0]\n",
    "    \n",
    "    return float1, float2\n",
    "\n",
    "def int32_to_rgba(value):\n",
    "    # Ensure the input is a 32-bit integer\n",
    "    value = int(value) & 0xFFFFFFFF\n",
    "    \n",
    "    # Extract each 8-bit piece\n",
    "    r = (value >> 24) & 0xFF\n",
    "    g = (value >> 16) & 0xFF\n",
    "    b = (value >> 8) & 0xFF\n",
    "    a = value & 0xFF\n",
    "    \n",
    "    return r / 255.0, g / 255.0, b / 255.0, a / 255.0"
   ]
  },
  {
   "cell_type": "code",
   "execution_count": 4,
   "metadata": {},
   "outputs": [
    {
     "data": {
      "text/plain": [
       "(0.803, 0.8213)"
      ]
     },
     "execution_count": 4,
     "metadata": {},
     "output_type": "execute_result"
    }
   ],
   "source": [
    "unpackHalf2x16(980236946)"
   ]
  },
  {
   "cell_type": "code",
   "execution_count": 5,
   "metadata": {},
   "outputs": [
    {
     "data": {
      "text/plain": [
       "(-0.00319, 0.786)"
      ]
     },
     "execution_count": 5,
     "metadata": {},
     "output_type": "execute_result"
    }
   ],
   "source": [
    "unpackHalf2x16(2592619082)"
   ]
  },
  {
   "cell_type": "code",
   "execution_count": 4,
   "metadata": {},
   "outputs": [
    {
     "data": {
      "text/plain": [
       "(0.3686274509803922,\n",
       " 0.7215686274509804,\n",
       " 0.7254901960784313,\n",
       " 0.7294117647058823)"
      ]
     },
     "execution_count": 4,
     "metadata": {},
     "output_type": "execute_result"
    }
   ],
   "source": [
    "int32_to_rgba(1589164474)"
   ]
  },
  {
   "cell_type": "code",
   "execution_count": 5,
   "metadata": {},
   "outputs": [
    {
     "data": {
      "application/vnd.jupyter.widget-view+json": {
       "model_id": "c3317264494f4ea997d61191fa24a3c5",
       "version_major": 2,
       "version_minor": 0
      },
      "text/plain": [
       "VBox(children=(FloatSlider(value=0.8212358, description='Red:', max=1.0, step=0.01), FloatSlider(value=0.80300…"
      ]
     },
     "metadata": {},
     "output_type": "display_data"
    }
   ],
   "source": [
    "import ipywidgets as widgets\n",
    "from IPython.display import display, HTML\n",
    "import matplotlib.colors as mcolors\n",
    "\n",
    "def color_picker(r=0.5, g=0.5, b=0.5):\n",
    "    def update_color(r, g, b):\n",
    "        color = mcolors.to_hex([r, g, b])\n",
    "        color_display.value = f'<div style=\"width: 100px; height: 100px; background-color: {color};\"></div>'\n",
    "        rgb_display.value = f'RGB: ({r:.2f}, {g:.2f}, {b:.2f})'\n",
    "        hex_display.value = f'Hex: {color}'\n",
    "\n",
    "    r_slider = widgets.FloatSlider(value=r, min=0, max=1, step=0.01, description='Red:')\n",
    "    g_slider = widgets.FloatSlider(value=g, min=0, max=1, step=0.01, description='Green:')\n",
    "    b_slider = widgets.FloatSlider(value=b, min=0, max=1, step=0.01, description='Blue:')\n",
    "\n",
    "    color_display = widgets.HTML()\n",
    "    rgb_display = widgets.Label()\n",
    "    hex_display = widgets.Label()\n",
    "\n",
    "    widgets.interactive(update_color, r=r_slider, g=g_slider, b=b_slider)\n",
    "\n",
    "    display(widgets.VBox([r_slider, g_slider, b_slider, color_display, rgb_display, hex_display]))\n",
    "\n",
    "# Usage\n",
    "color_picker(0.8212358, 0.8030037, 0.78623223)  # You can change these initial values"
   ]
  },
  {
   "cell_type": "code",
   "execution_count": 6,
   "metadata": {},
   "outputs": [
    {
     "data": {
      "application/vnd.jupyter.widget-view+json": {
       "model_id": "49ebcdf479814f618fab56eb4f17427b",
       "version_major": 2,
       "version_minor": 0
      },
      "text/plain": [
       "VBox(children=(FloatSlider(value=0.3686274509803922, description='Red:', max=1.0, step=0.01), FloatSlider(valu…"
      ]
     },
     "metadata": {},
     "output_type": "display_data"
    }
   ],
   "source": [
    "color_picker(0.3686274509803922, 0.7215686274509804, 0.7254901960784313)"
   ]
  },
  {
   "cell_type": "code",
   "execution_count": null,
   "metadata": {},
   "outputs": [],
   "source": []
  }
 ],
 "metadata": {
  "kernelspec": {
   "display_name": "nerfstudio",
   "language": "python",
   "name": "python3"
  },
  "language_info": {
   "codemirror_mode": {
    "name": "ipython",
    "version": 3
   },
   "file_extension": ".py",
   "mimetype": "text/x-python",
   "name": "python",
   "nbconvert_exporter": "python",
   "pygments_lexer": "ipython3",
   "version": "3.8.19"
  }
 },
 "nbformat": 4,
 "nbformat_minor": 2
}
